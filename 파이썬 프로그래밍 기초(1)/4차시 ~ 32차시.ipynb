{
 "cells": [
  {
   "cell_type": "markdown",
   "id": "elect-excerpt",
   "metadata": {},
   "source": [
    "# 관계, 논리 연산자"
   ]
  },
  {
   "cell_type": "markdown",
   "id": "fuzzy-treasury",
   "metadata": {},
   "source": [
    "연산은 부동소수점 자료형으로 리턴한다."
   ]
  },
  {
   "cell_type": "markdown",
   "id": "individual-norway",
   "metadata": {},
   "source": [
    "관계 연산자가 논리 연산자보다 우선이다"
   ]
  },
  {
   "cell_type": "markdown",
   "id": "varying-girlfriend",
   "metadata": {},
   "source": [
    "# 비트 연산자"
   ]
  },
  {
   "cell_type": "markdown",
   "id": "floral-catch",
   "metadata": {},
   "source": [
    "'&' 양변의 비트 값 모두 1일 경우 1 반환(AND)\n",
    "\n",
    "'|' 양변의 값 모두 0일 경우에 0을 반환(OR)\n",
    "\n",
    "'^' 양변의 값이 다를 경우 1, 같을 경우 0을 반환(XOR)\n",
    "\n",
    "'~' 비트 값이 1일 경우 0, 0일 경우 1을 반환(NOT)\n",
    "\n",
    "'<<' 좌변의 값을 우변의 값만큼 비트를 왼쪽으로 이동\n",
    "ex) x = 1, x<<1 => 8\n",
    "\n",
    "즉, <<1을 할 때마다 값이 2배씩 증가한다는 것을 알 수 있다\n",
    "\n",
    "'>>' 좌변의 값을 우변의 값 만큼 비트를 오른쪽으로 이동\n",
    "ex) x = 8, x>>1 => 4\n",
    "\n",
    "즉, >>1을 할 때마다 값이 2배씩 감소한다는 것을 알 수 있다."
   ]
  },
  {
   "cell_type": "markdown",
   "id": "advance-lewis",
   "metadata": {},
   "source": [
    "# 연산자 우선 순위"
   ]
  },
  {
   "cell_type": "markdown",
   "id": "extra-matter",
   "metadata": {},
   "source": [
    "1. 괄호가 최우선\n",
    "2. 산술 연산이 비트 연산보다 우선\n",
    "3. 관계 연산이 논리 연산보다 우선"
   ]
  },
  {
   "cell_type": "markdown",
   "id": "adjusted-candy",
   "metadata": {},
   "source": [
    "# 흐름과 제어 if"
   ]
  },
  {
   "cell_type": "markdown",
   "id": "automotive-guess",
   "metadata": {},
   "source": [
    "둘 이상의 문장을 한 줄에 기술할 떄는 ;을 사용해서 구분해야 오류가 나지 않는다"
   ]
  },
  {
   "cell_type": "code",
   "execution_count": 3,
   "id": "external-closing",
   "metadata": {},
   "outputs": [
    {
     "name": "stdout",
     "output_type": "stream",
     "text": [
      "합격\n"
     ]
    }
   ],
   "source": [
    "score = 70\n",
    "result = \"합격\" if score >= 60 else \"불합격\"\n",
    "#위처럼 한 줄로 표현이 가능하다.\n",
    "#한 줄로 표현할 떄는 조건문에 따라 변경된 명령문을 먼저 기제하고 조건문을 작성한다.\n",
    "print(result)"
   ]
  },
  {
   "cell_type": "code",
   "execution_count": 13,
   "id": "threaded-diagnosis",
   "metadata": {
    "scrolled": true
   },
   "outputs": [
    {
     "name": "stdout",
     "output_type": "stream",
     "text": [
      "첫 번째 숫자를 입력하세요: 3\n",
      "연산자를 입력하세요 (+, -, *, /): /\n",
      "두 번째 숫자를 입력하세요: 5\n",
      "3 / 5 = 0.60\n",
      "3 / 5 = 0.60\n"
     ]
    }
   ],
   "source": [
    "#간단 계산기\n",
    "num1, operator, num2 = 0, '', 0\n",
    "num1 = int(input('첫 번째 숫자를 입력하세요: '))\n",
    "operator = input('연산자를 입력하세요 (+, -, *, /): ')\n",
    "num2 = int(input('두 번째 숫자를 입력하세요: '))\n",
    "if operator == '+':\n",
    "    print('{} + {} = {}'.format(num1, num2, num1 + num2))\n",
    "    print('%d + %d = %d'% (num1, num2, num1 + num2))\n",
    "elif operator == '-':\n",
    "    print('{} - {} = {}'.format(num1, num2, num1 - num2))\n",
    "    print('%d - %d = %d'% (num1, num2, num1 - num2))\n",
    "elif operator == '*':\n",
    "    print('{} * {} = {}'.format(num1, num2, num1 * num2))\n",
    "    print('%d * %d = %d'% (num1, num2, num1 * num2))\n",
    "elif operator == '/':\n",
    "    print('{} / {} = {:.2f}'.format(num1, num2, num1 / num2))\n",
    "    print('%d / %d = %.2f'% (num1, num2, num1 / num2))\n",
    "else:\n",
    "    print('\\'{}\\'는 본 프로그램에서 지원하지 않는 연산자입니다.'.format(operator))"
   ]
  },
  {
   "cell_type": "code",
   "execution_count": 17,
   "id": "opposed-cartridge",
   "metadata": {},
   "outputs": [
    {
     "name": "stdout",
     "output_type": "stream",
     "text": [
      "n\n"
     ]
    }
   ],
   "source": [
    "c = 'B'\n",
    "if c.islower():\n",
    "    print('y')\n",
    "else:\n",
    "    print('n')"
   ]
  },
  {
   "cell_type": "code",
   "execution_count": 30,
   "id": "spiritual-korea",
   "metadata": {
    "scrolled": true
   },
   "outputs": [
    {
     "name": "stdout",
     "output_type": "stream",
     "text": [
      "c\n",
      "c(ASCII: 99) => C(ASCII: 67)\n"
     ]
    }
   ],
   "source": [
    "alpha = str(input())\n",
    "ch_alpha = ''\n",
    "if 97 <= ord(alpha) <= 122 :\n",
    "    ch_alpha = alpha.upper()\n",
    "    print('{}(ASCII: {}) => {}(ASCII: {})'.format(alpha, ord(alpha), ch_alpha, ord(ch_alpha)))\n",
    "elif 65 <= ord(alpha) <= 90 :\n",
    "    ch_alpha = alpha.lower()\n",
    "    print('{}(ASCII: {}) => {}(ASCII: {})'.format(alpha, ord(alpha), ch_alpha, ord(ch_alpha)))\n",
    "else:\n",
    "    print(alpha)"
   ]
  },
  {
   "cell_type": "code",
   "execution_count": 33,
   "id": "military-direction",
   "metadata": {},
   "outputs": [
    {
     "name": "stdout",
     "output_type": "stream",
     "text": [
      "7,14,21,28,42,49,56,63,77,84,91,98,112,119,126,133,147,154,161,168,182,189,196\n"
     ]
    }
   ],
   "source": [
    "ans_lst = []\n",
    "for i in range(1, 200+1):\n",
    "    if i%7 == 0 and i%5 != 0 :\n",
    "        ans_lst.append(i)\n",
    "for j in range(len(ans_lst)-1):\n",
    "    print(ans_lst[j],end=\",\")\n",
    "print(ans_lst[-1])"
   ]
  },
  {
   "cell_type": "code",
   "execution_count": 36,
   "id": "advisory-noise",
   "metadata": {},
   "outputs": [
    {
     "name": "stdout",
     "output_type": "stream",
     "text": [
      "200,202,204,206,208,220,222,224,226,228,240,242,244,246,248,260,262,264,266,268,280,282,284,286,288\n"
     ]
    }
   ],
   "source": [
    "ans_list = []\n",
    "for i in range(100, 301):\n",
    "    if int(str(i)[0])%2 == 0 and int(str(i)[1])%2 == 0 and int(str(i)[2])%2 ==0 :\n",
    "        ans_list.append(i)\n",
    "for j in range(len(ans_list)-1):\n",
    "    print(ans_list[j],end=\",\")\n",
    "print(ans_list[-1])    "
   ]
  },
  {
   "cell_type": "markdown",
   "id": "aggressive-hybrid",
   "metadata": {},
   "source": [
    "# 흐름과 제어 - 반복"
   ]
  },
  {
   "cell_type": "code",
   "execution_count": 39,
   "id": "sunrise-eleven",
   "metadata": {},
   "outputs": [
    {
     "name": "stdout",
     "output_type": "stream",
     "text": [
      "2 x 1 =  2\n",
      "2 x 2 =  4\n",
      "2 x 3 =  6\n",
      "2 x 4 =  8\n",
      "2 x 5 = 10\n",
      "2 x 6 = 12\n",
      "2 x 7 = 14\n",
      "2 x 8 = 16\n",
      "2 x 9 = 18\n",
      "\n",
      "3 x 1 =  3\n",
      "3 x 2 =  6\n",
      "3 x 3 =  9\n",
      "3 x 4 = 12\n",
      "3 x 5 = 15\n",
      "3 x 6 = 18\n",
      "3 x 7 = 21\n",
      "3 x 8 = 24\n",
      "3 x 9 = 27\n",
      "\n",
      "4 x 1 =  4\n",
      "4 x 2 =  8\n",
      "4 x 3 = 12\n",
      "4 x 4 = 16\n",
      "4 x 5 = 20\n",
      "4 x 6 = 24\n",
      "4 x 7 = 28\n",
      "4 x 8 = 32\n",
      "4 x 9 = 36\n",
      "\n",
      "5 x 1 =  5\n",
      "5 x 2 = 10\n",
      "5 x 3 = 15\n",
      "5 x 4 = 20\n",
      "5 x 5 = 25\n",
      "5 x 6 = 30\n",
      "5 x 7 = 35\n",
      "5 x 8 = 40\n",
      "5 x 9 = 45\n",
      "\n",
      "6 x 1 =  6\n",
      "6 x 2 = 12\n",
      "6 x 3 = 18\n",
      "6 x 4 = 24\n",
      "6 x 5 = 30\n",
      "6 x 6 = 36\n",
      "6 x 7 = 42\n",
      "6 x 8 = 48\n",
      "6 x 9 = 54\n",
      "\n",
      "7 x 1 =  7\n",
      "7 x 2 = 14\n",
      "7 x 3 = 21\n",
      "7 x 4 = 28\n",
      "7 x 5 = 35\n",
      "7 x 6 = 42\n",
      "7 x 7 = 49\n",
      "7 x 8 = 56\n",
      "7 x 9 = 63\n",
      "\n",
      "8 x 1 =  8\n",
      "8 x 2 = 16\n",
      "8 x 3 = 24\n",
      "8 x 4 = 32\n",
      "8 x 5 = 40\n",
      "8 x 6 = 48\n",
      "8 x 7 = 56\n",
      "8 x 8 = 64\n",
      "8 x 9 = 72\n",
      "\n",
      "9 x 1 =  9\n",
      "9 x 2 = 18\n",
      "9 x 3 = 27\n",
      "9 x 4 = 36\n",
      "9 x 5 = 45\n",
      "9 x 6 = 54\n",
      "9 x 7 = 63\n",
      "9 x 8 = 72\n",
      "9 x 9 = 81\n",
      "\n"
     ]
    }
   ],
   "source": [
    "for j in range(2, 10):\n",
    "     for i in range(1, 10):\n",
    "        print(\"{} x {} = {:>2}\".format(j, i, j*i))\n",
    "        if i == 9:\n",
    "            print()\n",
    "        #여기서 >2는 우측정렬하고 문자열의 폭은 2로 하라는 의미"
   ]
  },
  {
   "cell_type": "code",
   "execution_count": 45,
   "id": "disciplinary-baptist",
   "metadata": {
    "scrolled": true
   },
   "outputs": [
    {
     "name": "stdout",
     "output_type": "stream",
     "text": [
      "총점: 381\n"
     ]
    }
   ],
   "source": [
    "scores = [100, 98, 95, 88]\n",
    "total = 0\n",
    "cnt = len(scores)\n",
    "i = 0\n",
    "while i < cnt :\n",
    "    total += scores[i]\n",
    "    i += 1\n",
    "print('총점: {}'.format(total))    "
   ]
  },
  {
   "cell_type": "markdown",
   "id": "premier-sierra",
   "metadata": {},
   "source": [
    "continue를 만나면 이후 코드는 건너뛰고 반복문을 계속 실행\n",
    "break를 만나면 반복문 빠져나감"
   ]
  },
  {
   "cell_type": "code",
   "execution_count": 48,
   "id": "secret-semester",
   "metadata": {},
   "outputs": [
    {
     "name": "stdout",
     "output_type": "stream",
     "text": [
      "1부터 10까지 3의 배수를 제외한 총 합: 37\n"
     ]
    }
   ],
   "source": [
    "total = 0\n",
    "for i in range(1, 11):\n",
    "    if i % 3 == 0:\n",
    "        continue\n",
    "    total += i\n",
    "print('1부터 10까지 3의 배수를 제외한 총 합: {}'.format(total))    "
   ]
  },
  {
   "cell_type": "code",
   "execution_count": 52,
   "id": "wound-snowboard",
   "metadata": {},
   "outputs": [
    {
     "name": "stdout",
     "output_type": "stream",
     "text": [
      "*\n",
      "**\n",
      "***\n",
      "****\n"
     ]
    }
   ],
   "source": [
    "#step 1\n",
    "'''for i in range(4):\n",
    "    print('*'*(i+1))'''\n",
    "j = 1    \n",
    "while j < 5 :\n",
    "    print('*'*j)\n",
    "    j += 1"
   ]
  },
  {
   "cell_type": "code",
   "execution_count": 59,
   "id": "organizational-encounter",
   "metadata": {},
   "outputs": [
    {
     "name": "stdout",
     "output_type": "stream",
     "text": [
      "*\n",
      "**\n",
      "***\n",
      "****\n",
      "*\n",
      "**\n",
      "***\n",
      "****\n"
     ]
    }
   ],
   "source": [
    "#step 2\n",
    "#for i in range(2):\n",
    "#    for j in range(1,5):\n",
    "#        print('*'*j)\n",
    "        \n",
    "cnt = 1\n",
    "while cnt <=2 :\n",
    "    j = 1\n",
    "    while j <= 4:\n",
    "        print('*'*j)\n",
    "        j += 1    \n",
    "    cnt += 1    "
   ]
  },
  {
   "cell_type": "code",
   "execution_count": 67,
   "id": "turned-infection",
   "metadata": {},
   "outputs": [
    {
     "name": "stdout",
     "output_type": "stream",
     "text": [
      "     *\n",
      "    ***\n",
      "   *****\n",
      "  *******\n",
      " *********\n",
      "***********\n"
     ]
    }
   ],
   "source": [
    "#step 3\n",
    "'''for i in range(10):\n",
    "    if i%2 == 1:\n",
    "        print('{:^10}'.format(\"*\"*i))'''\n",
    "        \n",
    "i, k = 5, 1\n",
    "while i >= 0:\n",
    "    print(\"{}{}\".format(\" \" * i, \"*\" * (2 * k - 1)))\n",
    "    i -= 1\n",
    "    k += 1"
   ]
  },
  {
   "cell_type": "code",
   "execution_count": 68,
   "id": "incorporate-answer",
   "metadata": {},
   "outputs": [
    {
     "name": "stdout",
     "output_type": "stream",
     "text": [
      "1번 학생은 88점으로 합격입니다.\n",
      "2번 학생은 30점으로 불합격입니다.\n",
      "3번 학생은 61점으로 합격입니다.\n",
      "4번 학생은 55점으로 불합격입니다.\n",
      "5번 학생은 95점으로 합격입니다.\n"
     ]
    }
   ],
   "source": [
    "# 6230\n",
    "scores = [88, 30, 61, 55, 95]\n",
    "for i in range(len(scores)):\n",
    "    if scores[i] >= 60 :\n",
    "        print('{}번 학생은 {}점으로 합격입니다.'.format(i+1, scores[i]))\n",
    "    else:\n",
    "        print('{}번 학생은 {}점으로 불합격입니다.'.format(i+1, scores[i]))"
   ]
  },
  {
   "cell_type": "code",
   "execution_count": 82,
   "id": "manual-encounter",
   "metadata": {},
   "outputs": [
    {
     "name": "stdout",
     "output_type": "stream",
     "text": [
      "{'A': 3, 'O': 3, 'B': 2, 'AB': 2}\n"
     ]
    }
   ],
   "source": [
    "#26차시\n",
    "b_type = ['A', 'A', 'A', 'O', 'B', 'B', 'O', 'AB', 'AB', 'O']\n",
    "b_cnt = {'A': 0, 'O': 0, 'B': 0, 'AB': 0}\n",
    "for i in b_type:\n",
    "    if i == 'A':\n",
    "        b_cnt['A'] += 1\n",
    "    elif i == 'O' :\n",
    "        b_cnt['O'] += 1\n",
    "    elif i == 'B' :\n",
    "        b_cnt['B'] += 1\n",
    "    else :\n",
    "        b_cnt['AB'] += 1\n",
    "        \n",
    "print(b_cnt)     "
   ]
  },
  {
   "cell_type": "code",
   "execution_count": 2,
   "id": "suffering-allowance",
   "metadata": {},
   "outputs": [
    {
     "name": "stdout",
     "output_type": "stream",
     "text": [
      "454\n"
     ]
    }
   ],
   "source": [
    "#27차시\n",
    "scores = [85, 65, 77, 83, 75, 22, 98, 88, 38, 100]\n",
    "i = 0\n",
    "total = 0\n",
    "while i < len(scores):\n",
    "    if scores[i] >= 80:\n",
    "        total += scores[i]\n",
    "    i += 1\n",
    "print(total)        "
   ]
  },
  {
   "cell_type": "code",
   "execution_count": 3,
   "id": "premier-saver",
   "metadata": {},
   "outputs": [
    {
     "name": "stdout",
     "output_type": "stream",
     "text": [
      "*****\n",
      "****\n",
      "***\n",
      "**\n",
      "*\n"
     ]
    }
   ],
   "source": [
    "#28차시\n",
    "i = 5\n",
    "while i > 0 :\n",
    "    print('*'*i)\n",
    "    i -= 1"
   ]
  },
  {
   "cell_type": "code",
   "execution_count": 6,
   "id": "distributed-webmaster",
   "metadata": {},
   "outputs": [
    {
     "name": "stdout",
     "output_type": "stream",
     "text": [
      "*******\n",
      " *****\n",
      "  ***\n",
      "   *\n"
     ]
    }
   ],
   "source": [
    "#29차시\n",
    "i = 7\n",
    "k = 0\n",
    "while k < 4:\n",
    "    print(\"{}{}\".format(\" \"*k,\"*\"*i))\n",
    "    i -= 2\n",
    "    k += 1"
   ]
  },
  {
   "cell_type": "code",
   "execution_count": 22,
   "id": "front-teddy",
   "metadata": {},
   "outputs": [
    {
     "name": "stdout",
     "output_type": "stream",
     "text": [
      "11\n",
      "0 1 2 3 4 5 6 7 8 9\n",
      "0 2 0 0 0 0 0 0 0 0\n"
     ]
    }
   ],
   "source": [
    "#30차시\n",
    "num = input()\n",
    "zero_list = [0]*10\n",
    "for j in range(len(num)):\n",
    "    zero_list[int(num[j])] += 1\n",
    "for i in range(10):\n",
    "    if i == 9:\n",
    "        print(i)\n",
    "    else:    \n",
    "        print(i,end=\" \")  \n",
    "for k in range(10):\n",
    "    if k == 9:\n",
    "        print(zero_list[k])\n",
    "    else:    \n",
    "        print(zero_list[k],end=\" \")"
   ]
  },
  {
   "cell_type": "code",
   "execution_count": 38,
   "id": "demonstrated-guidance",
   "metadata": {},
   "outputs": [
    {
     "name": "stdout",
     "output_type": "stream",
     "text": [
      "    *\n",
      "   **\n",
      "  ***\n",
      " ****\n",
      "*****\n"
     ]
    }
   ],
   "source": [
    "#31차시\n",
    "i = 1\n",
    "while i <= 5:\n",
    "    print('%5s'% ('*'*i))\n",
    "    i += 1"
   ]
  },
  {
   "cell_type": "code",
   "execution_count": 41,
   "id": "grave-colony",
   "metadata": {},
   "outputs": [
    {
     "name": "stdout",
     "output_type": "stream",
     "text": [
      "9\n",
      "1001\n"
     ]
    }
   ],
   "source": [
    "#32차시\n",
    "n = int(input())\n",
    "answer = ''\n",
    "while n > 1:\n",
    "    n, y = n//2, n%2\n",
    "    answer = str(y) + answer\n",
    "answer = str(n) + answer\n",
    "print(answer)"
   ]
  },
  {
   "cell_type": "code",
   "execution_count": null,
   "id": "extra-lunch",
   "metadata": {},
   "outputs": [],
   "source": []
  }
 ],
 "metadata": {
  "kernelspec": {
   "display_name": "Python 3",
   "language": "python",
   "name": "python3"
  },
  "language_info": {
   "codemirror_mode": {
    "name": "ipython",
    "version": 3
   },
   "file_extension": ".py",
   "mimetype": "text/x-python",
   "name": "python",
   "nbconvert_exporter": "python",
   "pygments_lexer": "ipython3",
   "version": "3.9.1"
  }
 },
 "nbformat": 4,
 "nbformat_minor": 5
}
